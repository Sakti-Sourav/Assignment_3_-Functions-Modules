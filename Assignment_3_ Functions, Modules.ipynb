{
 "cells": [
  {
   "cell_type": "code",
   "execution_count": 14,
   "id": "4db8d021",
   "metadata": {},
   "outputs": [
    {
     "name": "stdout",
     "output_type": "stream",
     "text": [
      "20\n"
     ]
    }
   ],
   "source": [
    "#Q.1: Write a Python function to sum all the numbers in a list.\n",
    "\n",
    "\n",
    "def sum(numbers):\n",
    "    count = 0\n",
    "    for i in numbers:\n",
    "        count += i\n",
    "    return count\n",
    "print(sum((8, 2, 3, 0, 7)))"
   ]
  },
  {
   "cell_type": "code",
   "execution_count": 10,
   "id": "d5665a07",
   "metadata": {},
   "outputs": [
    {
     "name": "stdout",
     "output_type": "stream",
     "text": [
      "The original string is : 1234abcd\n",
      "The reversed string is : dcba4321\n"
     ]
    }
   ],
   "source": [
    "#Q.2: Write a Python program to reverse a string.\n",
    "\n",
    "def reverse(b):\n",
    "    b = b[::-1]\n",
    "    return b\n",
    "s=input(\"The original string is : \")\n",
    "print(\"The reversed string is :\",reverse(s))"
   ]
  },
  {
   "cell_type": "code",
   "execution_count": 12,
   "id": "ebc0a7b9",
   "metadata": {},
   "outputs": [
    {
     "name": "stdout",
     "output_type": "stream",
     "text": [
      "Original String :  The quick Brown Fox\n",
      "No. of Upper case characters :  3\n",
      "No. of Lower case Characters :  13\n"
     ]
    }
   ],
   "source": [
    "#Q.3: Write a Python function that accepts a string and calculate the number of upper case letters and lower case letters.\n",
    "\n",
    "string_test('The quick Brown Fox')\n",
    "def string_test(s):\n",
    "    d={\"UPPER_CASE\":0, \"lower_case\":0}\n",
    "    for x in s:\n",
    "        if x.isupper():\n",
    "           d[\"UPPER_CASE\"]+=1\n",
    "        elif x.islower():\n",
    "           d[\"lower_case\"]+=1\n",
    "        else:\n",
    "           pass\n",
    "    print (\"Original String : \", s)\n",
    "    print (\"No. of Upper case characters : \", d[\"UPPER_CASE\"])\n",
    "    print (\"No. of Lower case Characters : \", d[\"lower_case\"])"
   ]
  },
  {
   "cell_type": "code",
   "execution_count": null,
   "id": "cc0b37a5",
   "metadata": {},
   "outputs": [],
   "source": []
  }
 ],
 "metadata": {
  "kernelspec": {
   "display_name": "Python 3",
   "language": "python",
   "name": "python3"
  },
  "language_info": {
   "codemirror_mode": {
    "name": "ipython",
    "version": 3
   },
   "file_extension": ".py",
   "mimetype": "text/x-python",
   "name": "python",
   "nbconvert_exporter": "python",
   "pygments_lexer": "ipython3",
   "version": "3.9.5"
  }
 },
 "nbformat": 4,
 "nbformat_minor": 5
}
